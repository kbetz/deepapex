{
 "cells": [
  {
   "cell_type": "code",
   "execution_count": 1,
   "id": "5f46b4bd-463e-4d86-b63c-bb2e9752c4d2",
   "metadata": {},
   "outputs": [
    {
     "name": "stderr",
     "output_type": "stream",
     "text": [
      "2022-09-08 15:31:51.744203: I tensorflow/stream_executor/cuda/cuda_gpu_executor.cc:961] could not open file to read NUMA node: /sys/bus/pci/devices/0000:2b:00.0/numa_node\n",
      "Your kernel may have been built without NUMA support.\n",
      "2022-09-08 15:31:51.765486: W tensorflow/stream_executor/platform/default/dso_loader.cc:64] Could not load dynamic library 'libcudnn.so.8'; dlerror: libcudnn.so.8: cannot open shared object file: No such file or directory\n",
      "2022-09-08 15:31:51.765496: W tensorflow/core/common_runtime/gpu/gpu_device.cc:1850] Cannot dlopen some GPU libraries. Please make sure the missing libraries mentioned above are installed properly if you would like to use GPU. Follow the guide at https://www.tensorflow.org/install/gpu for how to download and setup the required libraries for your platform.\n",
      "Skipping registering GPU devices...\n"
     ]
    },
    {
     "data": {
      "text/plain": [
       "[PhysicalDevice(name='/physical_device:CPU:0', device_type='CPU')]"
      ]
     },
     "execution_count": 1,
     "metadata": {},
     "output_type": "execute_result"
    }
   ],
   "source": [
    "import tensorflow as tf\n",
    "tf.config.list_physical_devices()"
   ]
  },
  {
   "cell_type": "code",
   "execution_count": 2,
   "id": "bb28ece1-2e21-485f-9b87-31e9841141dd",
   "metadata": {},
   "outputs": [],
   "source": [
    "import os\n",
    "\n",
    "data_path_DDA = \"../../datasets/CCSPred\"\n",
    "files_DDA = [os.path.join(data_path_DDA, file) for file in os.listdir(data_path_DDA)]\n",
    "\n",
    "data_path_DIA = \"../../datasets/midia_nf\"\n",
    "feature_path_DIA = \"../../datasets/4DFF\"\n",
    "files_DIA = [os.path.join(data_path_DIA, file) for file in os.listdir(data_path_DIA)]\n",
    "features_DIA = [os.path.join(feature_path_DIA, file) for file in os.listdir(feature_path_DIA) if file.endswith(\".features\")]\n"
   ]
  },
  {
   "cell_type": "code",
   "execution_count": 3,
   "id": "f4002688-d4d6-4b3d-8d3f-1c7e62520ae4",
   "metadata": {},
   "outputs": [
    {
     "name": "stderr",
     "output_type": "stream",
     "text": [
      "2022-09-08 15:31:51.822136: I tensorflow/core/platform/cpu_feature_guard.cc:193] This TensorFlow binary is optimized with oneAPI Deep Neural Network Library (oneDNN) to use the following CPU instructions in performance-critical operations:  AVX2 FMA\n",
      "To enable them in other operations, rebuild TensorFlow with the appropriate compiler flags.\n"
     ]
    }
   ],
   "source": [
    "from deepapex import model\n",
    "\n",
    "MAX_N = 1024\n",
    "ATT_SIZE = 1\n",
    "POINT_DIM = 3\n",
    "POINT_DIM2 = 4\n",
    "NUM_SCORES = 6\n",
    "\n",
    "isodet  = model.get_model(MAX_N, ATT_SIZE, POINT_DIM,  NUM_SCORES)\n",
    "isodet2 = model.get_model(MAX_N, ATT_SIZE, POINT_DIM2, NUM_SCORES)"
   ]
  },
  {
   "cell_type": "code",
   "execution_count": 4,
   "id": "ee13c07a-10ab-419a-b4a6-bda797ebe402",
   "metadata": {},
   "outputs": [
    {
     "data": {
      "application/vnd.jupyter.widget-view+json": {
       "model_id": "6217506e5b5f489c99a0bcf9c5e68e45",
       "version_major": 2,
       "version_minor": 0
      },
      "text/plain": [
       "  0%|          | 0/8805 [00:00<?, ?it/s]"
      ]
     },
     "metadata": {},
     "output_type": "display_data"
    },
    {
     "ename": "KeyboardInterrupt",
     "evalue": "",
     "output_type": "error",
     "traceback": [
      "\u001b[0;31m---------------------------------------------------------------------------\u001b[0m",
      "\u001b[0;31mKeyboardInterrupt\u001b[0m                         Traceback (most recent call last)",
      "Input \u001b[0;32mIn [4]\u001b[0m, in \u001b[0;36m<cell line: 3>\u001b[0;34m()\u001b[0m\n\u001b[1;32m      1\u001b[0m \u001b[38;5;28;01mfrom\u001b[39;00m \u001b[38;5;21;01mdeepapex\u001b[39;00m \u001b[38;5;28;01mimport\u001b[39;00m pipelineDDA \u001b[38;5;28;01mas\u001b[39;00m pdda\n\u001b[0;32m----> 3\u001b[0m \u001b[43mpdda\u001b[49m\u001b[38;5;241;43m.\u001b[39;49m\u001b[43mrun_train\u001b[49m\u001b[43m(\u001b[49m\u001b[43mfiles_DDA\u001b[49m\u001b[43m,\u001b[49m\u001b[43m \u001b[49m\u001b[43misodet\u001b[49m\u001b[43m)\u001b[49m\n",
      "File \u001b[0;32m/mnt/c/Uni/kbetz-msc/python/deepapex/pipelineDDA.py:224\u001b[0m, in \u001b[0;36mrun_train\u001b[0;34m(paths, isodet)\u001b[0m\n\u001b[1;32m    221\u001b[0m \u001b[38;5;28;01mdef\u001b[39;00m \u001b[38;5;21mrun_train\u001b[39m(paths, isodet):\n\u001b[1;32m    223\u001b[0m     \u001b[38;5;28;01mfor\u001b[39;00m p \u001b[38;5;129;01min\u001b[39;00m paths:\n\u001b[0;32m--> 224\u001b[0m         \u001b[43mrun\u001b[49m\u001b[43m(\u001b[49m\u001b[43mp\u001b[49m\u001b[43m,\u001b[49m\u001b[43m \u001b[49m\u001b[43misodet\u001b[49m\u001b[43m,\u001b[49m\u001b[43m \u001b[49m\u001b[38;5;28;43;01mTrue\u001b[39;49;00m\u001b[43m)\u001b[49m\n\u001b[1;32m    225\u001b[0m         \u001b[38;5;28mprint\u001b[39m(\u001b[38;5;124m\"\u001b[39m\u001b[38;5;124m=== FINISHED FILE ===\u001b[39m\u001b[38;5;124m\"\u001b[39m)\n",
      "File \u001b[0;32m/mnt/c/Uni/kbetz-msc/python/deepapex/pipelineDDA.py:100\u001b[0m, in \u001b[0;36mrun\u001b[0;34m(path, isodet, train)\u001b[0m\n\u001b[1;32m     96\u001b[0m     \u001b[38;5;28;01mcontinue\u001b[39;00m\n\u001b[1;32m     98\u001b[0m data_specs \u001b[38;5;241m=\u001b[39m csr_array((vals, (rows, idxs)), shape\u001b[38;5;241m=\u001b[39m(rows[\u001b[38;5;241m-\u001b[39m\u001b[38;5;241m1\u001b[39m]\u001b[38;5;241m+\u001b[39m\u001b[38;5;241m1\u001b[39m, NUM_MZ_BINS))\n\u001b[0;32m--> 100\u001b[0m fsp \u001b[38;5;241m=\u001b[39m \u001b[43mMzSpectrum\u001b[49m\u001b[43m(\u001b[49m\u001b[38;5;28;43;01mNone\u001b[39;49;00m\u001b[43m,\u001b[49m\u001b[43m \u001b[49m\u001b[38;5;241;43m-\u001b[39;49m\u001b[38;5;241;43m1\u001b[39;49m\u001b[43m,\u001b[49m\u001b[43m \u001b[49m\u001b[38;5;241;43m-\u001b[39;49m\u001b[38;5;241;43m1\u001b[39;49m\u001b[43m,\u001b[49m\u001b[43m \u001b[49m\u001b[43mspec\u001b[49m\u001b[43m[\u001b[49m\u001b[43midx\u001b[49m\u001b[43m]\u001b[49m\u001b[43m[\u001b[49m\u001b[38;5;241;43m0\u001b[39;49m\u001b[43m]\u001b[49m\u001b[43m,\u001b[49m\u001b[43m \u001b[49m\u001b[43mspec\u001b[49m\u001b[43m[\u001b[49m\u001b[43midx\u001b[49m\u001b[43m]\u001b[49m\u001b[43m[\u001b[49m\u001b[38;5;241;43m1\u001b[39;49m\u001b[43m]\u001b[49m\u001b[43m)\u001b[49m\u001b[38;5;241m.\u001b[39mto_resolution(\u001b[38;5;241m2\u001b[39m)\n\u001b[1;32m    102\u001b[0m target_spec \u001b[38;5;241m=\u001b[39m csr_array((fsp\u001b[38;5;241m.\u001b[39mvectorize(\u001b[38;5;241m3\u001b[39m)\u001b[38;5;241m.\u001b[39mvalues(),\n\u001b[1;32m    103\u001b[0m                          ([\u001b[38;5;241m0\u001b[39m]\u001b[38;5;241m*\u001b[39m\u001b[38;5;28mlen\u001b[39m(fsp\u001b[38;5;241m.\u001b[39mmz()), fsp\u001b[38;5;241m.\u001b[39mvectorize(\u001b[38;5;241m3\u001b[39m)\u001b[38;5;241m.\u001b[39mindices())),\n\u001b[1;32m    104\u001b[0m                          shape\u001b[38;5;241m=\u001b[39m(\u001b[38;5;241m1\u001b[39m, NUM_MZ_BINS))\n\u001b[1;32m    106\u001b[0m simil \u001b[38;5;241m=\u001b[39m cosine_similarity(data_specs, target_spec)\n",
      "File \u001b[0;32m/mnt/c/Uni/proteolizard-data/python/proteolizarddata/data.py:207\u001b[0m, in \u001b[0;36mMzSpectrum.__init__\u001b[0;34m(self, spec_pointer, *args)\u001b[0m\n\u001b[1;32m    205\u001b[0m \u001b[38;5;28;01mif\u001b[39;00m \u001b[38;5;28mlen\u001b[39m(args) \u001b[38;5;241m>\u001b[39m \u001b[38;5;241m0\u001b[39m:\n\u001b[1;32m    206\u001b[0m     frame, scan, mz, intensity \u001b[38;5;241m=\u001b[39m args\n\u001b[0;32m--> 207\u001b[0m     \u001b[38;5;28mself\u001b[39m\u001b[38;5;241m.\u001b[39mspec_ptr \u001b[38;5;241m=\u001b[39m \u001b[43mpl\u001b[49m\u001b[38;5;241;43m.\u001b[39;49m\u001b[43mMzSpectrumPL\u001b[49m\u001b[43m(\u001b[49m\u001b[43mframe\u001b[49m\u001b[43m,\u001b[49m\u001b[43m \u001b[49m\u001b[43mscan\u001b[49m\u001b[43m,\u001b[49m\u001b[43m \u001b[49m\u001b[43mmz\u001b[49m\u001b[43m,\u001b[49m\u001b[43m \u001b[49m\u001b[43mintensity\u001b[49m\u001b[43m)\u001b[49m\n\u001b[1;32m    209\u001b[0m \u001b[38;5;28;01melse\u001b[39;00m:\n\u001b[1;32m    210\u001b[0m     \u001b[38;5;28mself\u001b[39m\u001b[38;5;241m.\u001b[39mspec_ptr \u001b[38;5;241m=\u001b[39m spec_pointer\n",
      "\u001b[0;31mKeyboardInterrupt\u001b[0m: "
     ]
    }
   ],
   "source": [
    "from deepapex import pipelineDDA as pdda\n",
    "\n",
    "pdda.run_train(files_DDA, isodet)"
   ]
  },
  {
   "cell_type": "code",
   "execution_count": 8,
   "id": "5a5d699d-c266-4086-8db6-453b16daf458",
   "metadata": {
    "collapsed": true,
    "jupyter": {
     "outputs_hidden": true
    },
    "tags": []
   },
   "outputs": [
    {
     "name": "stdout",
     "output_type": "stream",
     "text": [
      "[(0, 3), (1, 5), (3, 7), (5, 9), (7, 11), (9, 13), (11, 15), (13, 17), (15, 19), (17, 21), (19, 23), (21, 24)]\n",
      "NUM_POINTS: 17440845\n",
      "BYTE_SIZE(MB): 665.3155746459961\n",
      "----------\n",
      "NUM_POINTS: 15989664\n",
      "BYTE_SIZE(MB): 609.9574127197266\n",
      "----------\n",
      "NUM_POINTS: 27385243\n",
      "BYTE_SIZE(MB): 1044.6642532348633\n",
      "----------\n",
      "NUM_POINTS: 28625481\n",
      "BYTE_SIZE(MB): 1091.9755783081055\n",
      "----------\n"
     ]
    },
    {
     "ename": "KeyboardInterrupt",
     "evalue": "",
     "output_type": "error",
     "traceback": [
      "\u001b[0;31m---------------------------------------------------------------------------\u001b[0m",
      "\u001b[0;31mKeyboardInterrupt\u001b[0m                         Traceback (most recent call last)",
      "Input \u001b[0;32mIn [8]\u001b[0m, in \u001b[0;36m<cell line: 3>\u001b[0;34m()\u001b[0m\n\u001b[1;32m      1\u001b[0m \u001b[38;5;28;01mfrom\u001b[39;00m \u001b[38;5;21;01mdeepapex\u001b[39;00m \u001b[38;5;28;01mimport\u001b[39;00m pipelineDIA \u001b[38;5;28;01mas\u001b[39;00m pdia\n\u001b[0;32m----> 3\u001b[0m \u001b[43mpdia\u001b[49m\u001b[38;5;241;43m.\u001b[39;49m\u001b[43mrun_train\u001b[49m\u001b[43m(\u001b[49m\u001b[43mfiles_DIA\u001b[49m\u001b[43m[\u001b[49m\u001b[38;5;241;43m1\u001b[39;49m\u001b[43m:\u001b[49m\u001b[43m]\u001b[49m\u001b[43m,\u001b[49m\u001b[43m \u001b[49m\u001b[43mfeatures_DIA\u001b[49m\u001b[43m[\u001b[49m\u001b[38;5;241;43m1\u001b[39;49m\u001b[43m:\u001b[49m\u001b[43m]\u001b[49m\u001b[43m,\u001b[49m\u001b[43m \u001b[49m\u001b[43misodet2\u001b[49m\u001b[43m)\u001b[49m\n",
      "File \u001b[0;32m/mnt/c/Uni/kbetz-msc/python/deepapex/pipelineDIA.py:234\u001b[0m, in \u001b[0;36mrun_train\u001b[0;34m(data_paths, feature_paths, isodet)\u001b[0m\n\u001b[1;32m    231\u001b[0m \u001b[38;5;28;01mdef\u001b[39;00m \u001b[38;5;21mrun_train\u001b[39m(data_paths, feature_paths, isodet):\n\u001b[1;32m    233\u001b[0m     \u001b[38;5;28;01mfor\u001b[39;00m dp, fp \u001b[38;5;129;01min\u001b[39;00m \u001b[38;5;28mzip\u001b[39m(data_paths, feature_paths):\n\u001b[0;32m--> 234\u001b[0m         \u001b[43mrun\u001b[49m\u001b[43m(\u001b[49m\u001b[43mdp\u001b[49m\u001b[43m,\u001b[49m\u001b[43m \u001b[49m\u001b[43mfp\u001b[49m\u001b[43m,\u001b[49m\u001b[43m \u001b[49m\u001b[43misodet\u001b[49m\u001b[43m,\u001b[49m\u001b[43m \u001b[49m\u001b[38;5;28;43;01mTrue\u001b[39;49;00m\u001b[43m)\u001b[49m\n\u001b[1;32m    235\u001b[0m         \u001b[38;5;28mprint\u001b[39m(\u001b[38;5;124m\"\u001b[39m\u001b[38;5;124m=== FINISHED FILE ===\u001b[39m\u001b[38;5;124m\"\u001b[39m)\n",
      "File \u001b[0;32m/mnt/c/Uni/kbetz-msc/python/deepapex/pipelineDIA.py:70\u001b[0m, in \u001b[0;36mrun\u001b[0;34m(data_path, feature_path, isodet, train)\u001b[0m\n\u001b[1;32m     67\u001b[0m \u001b[38;5;28;01mif\u001b[39;00m rt_idx_upper \u001b[38;5;241m<\u001b[39m \u001b[38;5;28mlen\u001b[39m(RTs)\u001b[38;5;241m-\u001b[39m\u001b[38;5;241m1\u001b[39m:\n\u001b[1;32m     68\u001b[0m     rt_idx_upper \u001b[38;5;241m-\u001b[39m\u001b[38;5;241m=\u001b[39m \u001b[38;5;241m1\u001b[39m\n\u001b[0;32m---> 70\u001b[0m slic \u001b[38;5;241m=\u001b[39m \u001b[43mcursor\u001b[49m\u001b[38;5;241;43m.\u001b[39;49m\u001b[43mget_slice_rt_range\u001b[49m\u001b[43m(\u001b[49m\u001b[43mrt_min\u001b[49m\u001b[38;5;241;43m=\u001b[39;49m\u001b[43mRTs\u001b[49m\u001b[43m[\u001b[49m\u001b[43mrt_idx_lower\u001b[49m\u001b[43m]\u001b[49m\u001b[43m,\u001b[49m\u001b[43m \u001b[49m\u001b[43mrt_max\u001b[49m\u001b[38;5;241;43m=\u001b[39;49m\u001b[43mRTs\u001b[49m\u001b[43m[\u001b[49m\u001b[43mrt_idx_upper\u001b[49m\u001b[43m]\u001b[49m\u001b[43m)\u001b[49m\n\u001b[1;32m     73\u001b[0m temp \u001b[38;5;241m=\u001b[39m slic\u001b[38;5;241m.\u001b[39mget_precursor_points()\n\u001b[1;32m     74\u001b[0m \u001b[38;5;28mprint\u001b[39m(\u001b[38;5;124m\"\u001b[39m\u001b[38;5;124mNUM_POINTS:\u001b[39m\u001b[38;5;124m\"\u001b[39m,\u001b[38;5;28mlen\u001b[39m(temp))\n",
      "File \u001b[0;32m/mnt/c/Uni/proteolizard-data/python/proteolizarddata/data.py:72\u001b[0m, in \u001b[0;36mPyTimsDataHandle.get_slice_rt_range\u001b[0;34m(self, rt_min, rt_max)\u001b[0m\n\u001b[1;32m     65\u001b[0m \u001b[38;5;124;03m\"\"\"\u001b[39;00m\n\u001b[1;32m     66\u001b[0m \n\u001b[1;32m     67\u001b[0m \u001b[38;5;124;03m:param rt_min:\u001b[39;00m\n\u001b[1;32m     68\u001b[0m \u001b[38;5;124;03m:param rt_max:\u001b[39;00m\n\u001b[1;32m     69\u001b[0m \u001b[38;5;124;03m:return:\u001b[39;00m\n\u001b[1;32m     70\u001b[0m \u001b[38;5;124;03m\"\"\"\u001b[39;00m\n\u001b[1;32m     71\u001b[0m prec_ids, frag_ids \u001b[38;5;241m=\u001b[39m \u001b[38;5;28mself\u001b[39m\u001b[38;5;241m.\u001b[39m__get_frame_ids_by_type_rt_range(rt_min, rt_max)\n\u001b[0;32m---> 72\u001b[0m \u001b[38;5;28;01mreturn\u001b[39;00m \u001b[38;5;28;43mself\u001b[39;49m\u001b[38;5;241;43m.\u001b[39;49m\u001b[43mget_slice\u001b[49m\u001b[43m(\u001b[49m\u001b[43mprec_ids\u001b[49m\u001b[43m,\u001b[49m\u001b[43m \u001b[49m\u001b[43mfrag_ids\u001b[49m\u001b[43m)\u001b[49m\n",
      "File \u001b[0;32m/mnt/c/Uni/proteolizard-data/python/proteolizarddata/data.py:59\u001b[0m, in \u001b[0;36mPyTimsDataHandle.get_slice\u001b[0;34m(self, precursor_ids, fragment_ids)\u001b[0m\n\u001b[1;32m     52\u001b[0m \u001b[38;5;28;01mdef\u001b[39;00m \u001b[38;5;21mget_slice\u001b[39m(\u001b[38;5;28mself\u001b[39m, precursor_ids, fragment_ids):\n\u001b[1;32m     53\u001b[0m     \u001b[38;5;124;03m\"\"\"\u001b[39;00m\n\u001b[1;32m     54\u001b[0m \n\u001b[1;32m     55\u001b[0m \u001b[38;5;124;03m    :param precursor_ids:\u001b[39;00m\n\u001b[1;32m     56\u001b[0m \u001b[38;5;124;03m    :param fragment_ids:\u001b[39;00m\n\u001b[1;32m     57\u001b[0m \u001b[38;5;124;03m    :return:\u001b[39;00m\n\u001b[1;32m     58\u001b[0m \u001b[38;5;124;03m    \"\"\"\u001b[39;00m\n\u001b[0;32m---> 59\u001b[0m     \u001b[38;5;28;01mreturn\u001b[39;00m TimsSlice(\u001b[38;5;28;43mself\u001b[39;49m\u001b[38;5;241;43m.\u001b[39;49m\u001b[43m__handle\u001b[49m\u001b[38;5;241;43m.\u001b[39;49m\u001b[43mgetSlice\u001b[49m\u001b[43m(\u001b[49m\u001b[43mprecursor_ids\u001b[49m\u001b[43m,\u001b[49m\u001b[43m \u001b[49m\u001b[43mfragment_ids\u001b[49m\u001b[43m)\u001b[49m)\n",
      "\u001b[0;31mKeyboardInterrupt\u001b[0m: "
     ]
    }
   ],
   "source": [
    "from deepapex import pipelineDIA as pdia\n",
    "\n",
    "pdia.run_train(files_DIA[1:], features_DIA[1:], isodet2)"
   ]
  },
  {
   "cell_type": "code",
   "execution_count": 4,
   "id": "a908a8f3-9bcb-43b3-b208-96b212cd8cf6",
   "metadata": {},
   "outputs": [
    {
     "data": {
      "application/vnd.jupyter.widget-view+json": {
       "model_id": "3581377db3164f9eb7dea8fc623b6659",
       "version_major": 2,
       "version_minor": 0
      },
      "text/plain": [
       "  0%|          | 0/8805 [00:00<?, ?it/s]"
      ]
     },
     "metadata": {},
     "output_type": "display_data"
    },
    {
     "name": "stdout",
     "output_type": "stream",
     "text": [
      "=== FINISHED FILE ===\n"
     ]
    },
    {
     "data": {
      "application/vnd.jupyter.widget-view+json": {
       "model_id": "fdbb399192c842758f854befdbb555d5",
       "version_major": 2,
       "version_minor": 0
      },
      "text/plain": [
       "  0%|          | 0/8682 [00:00<?, ?it/s]"
      ]
     },
     "metadata": {},
     "output_type": "display_data"
    },
    {
     "name": "stdout",
     "output_type": "stream",
     "text": [
      "=== FINISHED FILE ===\n"
     ]
    },
    {
     "data": {
      "application/vnd.jupyter.widget-view+json": {
       "model_id": "5905f0c5886d4a3d90f84263ac32bad0",
       "version_major": 2,
       "version_minor": 0
      },
      "text/plain": [
       "  0%|          | 0/8711 [00:00<?, ?it/s]"
      ]
     },
     "metadata": {},
     "output_type": "display_data"
    },
    {
     "name": "stdout",
     "output_type": "stream",
     "text": [
      "=== FINISHED FILE ===\n"
     ]
    },
    {
     "data": {
      "application/vnd.jupyter.widget-view+json": {
       "model_id": "988ce5e1059045b1831f0d399ac8e0d3",
       "version_major": 2,
       "version_minor": 0
      },
      "text/plain": [
       "  0%|          | 0/2619 [00:00<?, ?it/s]"
      ]
     },
     "metadata": {},
     "output_type": "display_data"
    },
    {
     "name": "stdout",
     "output_type": "stream",
     "text": [
      "=== FINISHED FILE ===\n"
     ]
    },
    {
     "data": {
      "application/vnd.jupyter.widget-view+json": {
       "model_id": "477547b0f9a44aa8a22dacc1ff124afb",
       "version_major": 2,
       "version_minor": 0
      },
      "text/plain": [
       "  0%|          | 0/2629 [00:00<?, ?it/s]"
      ]
     },
     "metadata": {},
     "output_type": "display_data"
    },
    {
     "name": "stdout",
     "output_type": "stream",
     "text": [
      "=== FINISHED FILE ===\n"
     ]
    }
   ],
   "source": [
    "from deepapex import pipelineDDA as pdda\n",
    "\n",
    "yt, yp = pdda.run_test(files_DDA, isodet)"
   ]
  },
  {
   "cell_type": "code",
   "execution_count": 5,
   "id": "a6767dbb-3f2b-4420-b6f7-ad70de897111",
   "metadata": {},
   "outputs": [
    {
     "name": "stdout",
     "output_type": "stream",
     "text": [
      "0.9995640938750711\n",
      "0.000153761407081086\n",
      "0.00021646023326949\n",
      "6.5684484578328e-05\n",
      "0.0\n",
      "0.0\n"
     ]
    }
   ],
   "source": [
    "import numpy as np\n",
    "\n",
    "for c in range(6):\n",
    "    \n",
    "    print(len(yt[yt == c]) / len(yt))"
   ]
  },
  {
   "cell_type": "code",
   "execution_count": 4,
   "id": "4d8fbf51-cb4c-4e0c-a611-e9d7bc4bcbd4",
   "metadata": {},
   "outputs": [
    {
     "data": {
      "text/plain": [
       "array([0.01  , 0.998 , 0.9955, 0.997 , 0.9997, 0.9997])"
      ]
     },
     "execution_count": 4,
     "metadata": {},
     "output_type": "execute_result"
    }
   ],
   "source": [
    "1 - np.array([0.99, 0.002, 0.0045, 0.003, 0.0003, 0.0003])"
   ]
  },
  {
   "cell_type": "code",
   "execution_count": null,
   "id": "accb7819-936b-4c20-ad91-0d042fe5e077",
   "metadata": {},
   "outputs": [],
   "source": []
  }
 ],
 "metadata": {
  "kernelspec": {
   "display_name": "protenv",
   "language": "python",
   "name": "protenv"
  },
  "language_info": {
   "codemirror_mode": {
    "name": "ipython",
    "version": 3
   },
   "file_extension": ".py",
   "mimetype": "text/x-python",
   "name": "python",
   "nbconvert_exporter": "python",
   "pygments_lexer": "ipython3",
   "version": "3.8.10"
  }
 },
 "nbformat": 4,
 "nbformat_minor": 5
}
