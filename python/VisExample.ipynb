{
 "cells": [
  {
   "cell_type": "code",
   "execution_count": 22,
   "id": "7b3ca067",
   "metadata": {},
   "outputs": [
    {
     "data": {
      "application/vnd.jupyter.widget-view+json": {
       "model_id": "79d402694dd848d8b68a0f8940681f18",
       "version_major": 2,
       "version_minor": 0
      },
      "text/plain": [
       "VBox(children=(VBox(children=(Text(value='', description='Data path', layout=Layout(height='auto', width='auto…"
      ]
     },
     "metadata": {},
     "output_type": "display_data"
    }
   ],
   "source": [
    "import abc\n",
    "import numpy as np\n",
    "from pyproteolizardvis.data import DataLoader\n",
    "from pyproteolizardvis.point import ImsPointCloudVisualizer\n",
    "from pyproteolizard.data import PyTimsDataHandle\n",
    "\n",
    "dh = PyTimsDataHandle('../data/Mainz_1_pos_1_1_5087.d/')\n",
    "slic = dh.get_slice_rt_range(rt_min=15.0, rt_max=20.0)\n",
    "\n",
    "slic = slic.filter_ranged(mz_min=1090, mz_max=1100, scan_min=250, scan_max=1000)\n",
    "\n",
    "class MyLoader(DataLoader):\n",
    "    def __init__(self):\n",
    "        super().__init__()\n",
    "    \n",
    "    def get_data(self):\n",
    "        pass\n",
    "    \n",
    "    def on_load_clicked(self):\n",
    "        pass\n",
    "    \n",
    "ml = MyLoader()\n",
    "ml.display_widgets()"
   ]
  },
  {
   "cell_type": "code",
   "execution_count": 21,
   "id": "39580669",
   "metadata": {},
   "outputs": [
    {
     "data": {
      "application/vnd.jupyter.widget-view+json": {
       "model_id": "c7f5fbc76a4b4759b87c71b87da61cdb",
       "version_major": 2,
       "version_minor": 0
      },
      "text/plain": [
       "VBox(children=(HBox(children=(FloatSlider(value=0.5, continuous_update=False, description='opacity:', max=1.0,…"
      ]
     },
     "metadata": {},
     "output_type": "display_data"
    }
   ],
   "source": [
    "class MyCustomPointVis(ImsPointCloudVisualizer, abc.ABC):\n",
    "    def __init__(self, data):\n",
    "        super().__init__(data)\n",
    "        \n",
    "    def display_widgets(self):\n",
    "        try:\n",
    "            display(self.box)\n",
    "        except Exception as e:\n",
    "            print(e)\n",
    "    \n",
    "    def on_update_clicked(self, change):\n",
    "        points_frame = self.data.get_precursor_points()\n",
    "        points = points_frame[['frame', 'scan', 'mz', 'intensity']].values\n",
    "        self.points_widget.data[0].x = points[:, 0]\n",
    "        self.points_widget.data[0].y = points[:, 1]\n",
    "        self.points_widget.data[0].z = points[:, 2]\n",
    "        self.points_widget.data[0].marker = dict(size=self.point_size_slider.value,\n",
    "                                                 color=np.log(points[:, 3]),\n",
    "                                                 colorscale=self.color_scale.value,\n",
    "                                                 line=dict(width=0),\n",
    "                                                 opacity=self.opacity_slider.value)\n",
    "\n",
    "        # TODO: calculate spacing MZ as a function of filter range\n",
    "        self.points_widget.update_layout(margin=dict(l=0, r=0, b=0, t=0),\n",
    "                                         scene={'xaxis': {'title': 'Rt-Index'},\n",
    "                                                'yaxis': {'title': 'Mobility-Index'},\n",
    "                                                'zaxis': {'title': 'm/z', 'dtick': 0.5}},\n",
    "                                         template=\"plotly_white\")\n",
    "\n",
    "        \n",
    "point_vis = MyCustomPointVis(slic)    \n",
    "\n",
    "point_vis.display_widgets()"
   ]
  }
 ],
 "metadata": {
  "kernelspec": {
   "display_name": "Python 3 (ipykernel)",
   "language": "python",
   "name": "python3"
  },
  "language_info": {
   "codemirror_mode": {
    "name": "ipython",
    "version": 3
   },
   "file_extension": ".py",
   "mimetype": "text/x-python",
   "name": "python",
   "nbconvert_exporter": "python",
   "pygments_lexer": "ipython3",
   "version": "3.8.10"
  }
 },
 "nbformat": 4,
 "nbformat_minor": 5
}
